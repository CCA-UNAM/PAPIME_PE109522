{
 "cells": [
  {
   "cell_type": "markdown",
   "id": "religious-conservative",
   "metadata": {},
   "source": [
    "# BASH\n",
    "\n",
    "* BASH (*Bourne again shell* - otro shell Bourne) es el nombre de la versión libre del **shell Bourne** de UNIX, y desarrollada por el proyecto GNU (GNU’s Not Unix).\n",
    "* Es el intérprete de comandos por defecto de los sistemas operativos basados en el kernel de Linux.\n",
    "* Su función es proporcionar una interfaz entre el usuario y el sistema operativo para leer la línea de comandos, interpretar su significado, llevar a cabo el comando y después mostrar el resultado.\n",
    "* Se le llama shell porque es un caparazón que rodea al kernel de Linux. \n",
    "\n",
    "¿Recuerdas la clase de COMANDOS BÁSICOS?, ahí vimos el **shell** o **intérprete de comandos**. \n",
    "\n",
    "## ¿Qué es un script?\n",
    "* Se le llama script a una pieza de software que no necesita ser compilado para ser ejecutada; y para ser ejecutada es necesario un intérprete.\n",
    "* A diferencia de otros lenguajes de programación como C++ y similares, los cuales necesitan pasar por un proceso de compilación que traduce su código fuente a código de máquina, en los lenguajes interpretados como Perl y **Bash**, el código fuente siempre se mantiene como tal.\n",
    "* Su mayor ventaja es que pueden ser modificados sin tener que pasar por el proceso de compilación para probar los cambios.\n",
    "\n",
    "Todos los ejemplos de los comandos vistos en las clases pasadas pueden ser parte de un script y ser ejecutados directamente en la **Terminal**. \n",
    "\n",
    "La primer línea en un script se le conoce como el (_shebang_) que le indica al sistema cómo ejecutar el script:\n",
    "**_#!/bin/bash_**\n",
    "\n",
    "Los comentarios dentro del scripts se inician con __#__.\n",
    "\n",
    "\n",
    "## Mi primer script de bash \n",
    "\n",
    "NOTA: Recuerda que todo lo vamos a ir haciendo sobre la **Terminal** en el Launcher.\n",
    "\n",
    "Crea un archivo llamado hola_mundo_1.sh y escribe lo siguiente:\n",
    "```\n",
    "#!/bin/bash \n",
    "\n",
    "#Escribe en la pantalla \"Hola mundo\"\n",
    "echo \"Hola mundo\"\n",
    "```\n",
    "\n",
    "Ejecútalo de la siguiente manera:\n",
    "\n",
    "```\n",
    "bash hola_mundo_1.sh\n",
    "```"
   ]
  },
  {
   "cell_type": "markdown",
   "id": "caroline-planet",
   "metadata": {},
   "source": [
    "Puedes notar que, cada comando se empieza en una nueva línea, pero también se puede iniciar después de un punto y coma **__;__**. Agregaàl final del script anterior lo siguiente y ejecútalo de nuevo. \n",
    "```\n",
    "# dos comandos en una línea separados por ;\n",
    "echo \"Es la primera línea\"; echo \"Es la segunda línea\"\n",
    "```\n",
    "\n",
    "<div align=\"center\">\n",
    "<img src=\"../../_static/images/Unix/comandos_dos_lineas.png\" width=\"450\" height=\"350\"/>\n",
    "</div> \n",
    "\n",
    "---\n",
    "\n",
    "<div align=\"center\">\n",
    "<img src=\"../../_static/images/Unix/resultado_dos_lineas.png\" width=\"450\" height=\"350\"/>\n",
    "</div> "
   ]
  },
  {
   "cell_type": "markdown",
   "id": "wicked-palace",
   "metadata": {},
   "source": [
    "---\n",
    "\n",
    "## Redireccionamiento\n",
    "\n",
    "* En GNU/Linux (y en UNIX en general) todo lo que este contenido en el directorio raíz ( recuerda que se identifica por **/** ), y sea accesible desde él es considerado como un archivo.\n",
    "* Un documento de texto, una memoria USB, una impresora e incluso la pantalla para Linux no son más que archivos en los cuales escribe, o de los cuales lee.\n",
    "* Todos los comandos tienen una entrada y salida estándar, es decir, un archivo de donde leen las entradas (por ejemplo teclado) y un archivo donde se escribirá la salida (por ejemplo pantalla).\n",
    "* El **redireccionamiento** consiste en cambiar la entrada o salida estándar de un comando hacia un archivo (o dispositivo) distinto al predeterminado.\n",
    "\n",
    "### Operadores de redirección\n",
    "\n",
    "Para indicar el sentido del redireccionamiento (de dónde o hacia dónde se dirige la información) se utiliza una sintaxis basada en símbolos:\n",
    "* _>_ redirecciona la salida hacia un archivo, si el archivo tenía información ésta se sobreescribirá.\n",
    "* _>>_ redirecciona la salida hacia un archivo, pero sin reescribir el archivo (agrega).\n",
    "* _<_ redirecciona la entrada desde un archivo, sobreescribiendo la información anterior si la hubiese.\n",
    "\n",
    "Ejemplo \n",
    "```\n",
    "echo “Hola Mundo” > hola.txt\n",
    "cat hola.txt #Mostramos el contenido del archivo hola.txt\n",
    "```"
   ]
  },
  {
   "cell_type": "code",
   "execution_count": 1,
   "id": "silver-construction",
   "metadata": {},
   "outputs": [
    {
     "name": "stdout",
     "output_type": "stream",
     "text": [
      "Hola Mundo\n"
     ]
    }
   ],
   "source": [
    "%%bash -l\n",
    "\n",
    "#!/bin/bash\n",
    "echo Hola Mundo > hola.txt\n",
    "cat hola.txt #Mostramos el contenido del archivo hola.txt"
   ]
  },
  {
   "cell_type": "markdown",
   "id": "impressed-parameter",
   "metadata": {},
   "source": [
    "---\n",
    "## Variables\n",
    "\n",
    "* Una variable es, como su nombre lo dice, un dato cuyo valor puede variar. En **bash** una variable es un nombre simbólico que representa un valor.\n",
    "* Para definir una variable simplemente se debe escribir el nombre de la variable, el signo igual y el valor (numérico o alfanumérico). \n",
    "* No debe haber espacios entre el nombre de la variable, el signo de igual y el valor asignado.\n",
    "* Para invocar una variable en bash simplemente es con el nombre de la variable precedido por el símbolo **_$_**.\n",
    "\n",
    "Ejemplo:\n",
    "Crea un script con el nombre **variable.sh** con el siguiente contenido y ejecútalo:\n",
    "\n",
    "```\n",
    "#!/bin/bash\n",
    "mensaje=\"Hola mundo\"\n",
    "echo $mensaje\n",
    "mensaje=\"Hola mundo 2\"\n",
    "echo $mensaje > hola2.txt\n",
    "```\n",
    "\n",
    "<div align=\"center\">\n",
    "<img src=\"../../_static/images/Unix/variables.png\" width=\"450\" height=\"350\"/>\n",
    "</div> \n",
    "\n",
    "---\n",
    "\n",
    "<div align=\"center\">\n",
    "<img src=\"../../_static/images/Unix/resultados_variables.png\" width=\"450\" height=\"350\"/>\n",
    "</div> "
   ]
  },
  {
   "cell_type": "markdown",
   "id": "hydraulic-royal",
   "metadata": {
    "tags": []
   },
   "source": [
    "Note que en la declaración de la variable **mensaje** no hay espacios:\n",
    "mensaje=\"Hola mundo\" pues si los hubiera (mensaje = \"Hola mundo\") marcaría error. Esto debido a que se pensaría que **mensaje** es un comando que no encuentra."
   ]
  },
  {
   "cell_type": "markdown",
   "id": "protective-williams",
   "metadata": {
    "tags": []
   },
   "source": [
    "---\n",
    "**Nota**: Esto lo puedes ir haciedno en las celdas de código en el Notebook como se muestra abajo, sin embargo nuestro obejtivo es poner en práctica lo que vamos aprendiendo sobre la Termnal."
   ]
  },
  {
   "cell_type": "code",
   "execution_count": 2,
   "id": "valued-emphasis",
   "metadata": {},
   "outputs": [
    {
     "name": "stdout",
     "output_type": "stream",
     "text": [
      "Hola mundo\n",
      "Hola mundo 2\n"
     ]
    }
   ],
   "source": [
    "%%bash -l\n",
    "\n",
    "#!/bin/bash\n",
    "mensaje=\"Hola mundo\"\n",
    "echo $mensaje #Se muestra en pantalla\n",
    "mensaje=\"Hola mundo 2\"\n",
    "echo $mensaje > hola2.txt\n",
    "cat hola2.txt #Se muestra el contenido del archivo hola2.txt"
   ]
  },
  {
   "cell_type": "markdown",
   "id": "directed-radical",
   "metadata": {
    "tags": []
   },
   "source": [
    "---\n",
    "## Algunas breves precisiones\n",
    "\n",
    "* Vim es un editor de texto, similar al block de notas o a Word. Nosotros lo utilizamos para escribir nuestros scripts.\n",
    "* BASH es un intérprete de comandos, toma el archivo que escribimos con vim y lo ejecuta.\n",
    "* El programa que ejecutamos con BASH es propiamente un script (por que no se compila)."
   ]
  }
 ],
 "metadata": {
  "kernelspec": {
   "display_name": "Python 3 (ipykernel)",
   "language": "python",
   "name": "python3"
  },
  "language_info": {
   "codemirror_mode": {
    "name": "ipython",
    "version": 3
   },
   "file_extension": ".py",
   "mimetype": "text/x-python",
   "name": "python",
   "nbconvert_exporter": "python",
   "pygments_lexer": "ipython3",
   "version": "3.10.6"
  }
 },
 "nbformat": 4,
 "nbformat_minor": 5
}
