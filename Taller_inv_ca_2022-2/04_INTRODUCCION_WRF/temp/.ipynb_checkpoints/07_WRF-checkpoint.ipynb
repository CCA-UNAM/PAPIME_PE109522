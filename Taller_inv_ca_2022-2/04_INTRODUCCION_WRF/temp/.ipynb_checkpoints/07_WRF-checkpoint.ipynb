{
 "cells": [
  {
   "cell_type": "markdown",
   "id": "technological-retention",
   "metadata": {
    "tags": []
   },
   "source": [
    "## Resumen\n",
    "<div align=\"center\">\n",
    "<img src=\"attachment:debad30e-9ad2-431a-8444-14a1f544c476.png\" />\n",
    "</div>"
   ]
  },
  {
   "cell_type": "code",
   "execution_count": null,
   "id": "encouraging-johns",
   "metadata": {},
   "outputs": [],
   "source": []
  }
 ],
 "metadata": {
  "kernelspec": {
   "display_name": "Python 3",
   "language": "python",
   "name": "python3"
  },
  "language_info": {
   "codemirror_mode": {
    "name": "ipython",
    "version": 3
   },
   "file_extension": ".py",
   "mimetype": "text/x-python",
   "name": "python",
   "nbconvert_exporter": "python",
   "pygments_lexer": "ipython3",
   "version": "3.8.8"
  }
 },
 "nbformat": 4,
 "nbformat_minor": 5
}
