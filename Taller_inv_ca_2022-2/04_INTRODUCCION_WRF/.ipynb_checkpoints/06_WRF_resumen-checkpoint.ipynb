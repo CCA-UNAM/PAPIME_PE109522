{
 "cells": [
  {
   "cell_type": "markdown",
   "id": "surprising-eclipse",
   "metadata": {
    "tags": []
   },
   "source": [
    "## Resumen\n",
    "<div align=\"center\">\n",
    "<img src=\"attachment:debad30e-9ad2-431a-8444-14a1f544c476.png\" />\n",
    "</div>"
   ]
  }
 ],
 "metadata": {
  "kernelspec": {
   "display_name": "Python 3",
   "language": "python",
   "name": "python3"
  },
  "language_info": {
   "codemirror_mode": {
    "name": "ipython",
    "version": 3
   },
   "file_extension": ".py",
   "mimetype": "text/x-python",
   "name": "python",
   "nbconvert_exporter": "python",
   "pygments_lexer": "ipython3",
   "version": "3.8.8"
  }
 },
 "nbformat": 4,
 "nbformat_minor": 5
}
