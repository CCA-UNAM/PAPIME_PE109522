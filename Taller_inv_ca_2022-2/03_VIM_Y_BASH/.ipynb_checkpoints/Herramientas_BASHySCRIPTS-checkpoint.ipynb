{
 "cells": [
  {
   "cell_type": "markdown",
   "id": "buried-thanks",
   "metadata": {},
   "source": [
    "# BASH\n",
    "\n",
    "BASH es el nombre del shell de Linux. Los ejemplos mostrados pueden ser parte de un script shell o ser ejecutados directamente en la terminal. BASH es un lenguaje de programación ideal para escribir scripts simples que permitan automatizar las tareas que desempeña un administrador de sistemas que, de otro modo, tendría que estar escribiendo directamente en la línea de comandos, ya que su característica principal es interpretar órdenes. Actualmente es el estándar de todas las distribuciones GNU/Linux, así que la mayoría de los scripts escritos para este tipo de sistemas operativos están hechos en BASH. \n",
    "\n",
    "La primer línea en un script se le conoce como el (_shebang_) que le indica al sistema cómo ejecutar el script, Los comentarios dentro del shell y los scripts inician con __#__.  Este puede estar al principio de la línea o al final de alguna instrucción, se puede emplear en cualquier parte del script, a excepción de la primera línea que le pertenece al _shebang_.\n",
    "\n",
    "Un ejemplo sencillo es el Hola Mundo:"
   ]
  },
  {
   "cell_type": "code",
   "execution_count": null,
   "id": "democratic-mounting",
   "metadata": {},
   "outputs": [],
   "source": [
    "%%bash -l\n",
    "\n",
    "#!/bin/bash \n",
    "\n",
    "#Escribe en la pantalla Hola mundo!\n",
    "echo ¡Hola mundo!"
   ]
  },
  {
   "cell_type": "markdown",
   "id": "confident-amateur",
   "metadata": {},
   "source": [
    "---\n",
    "\n",
    "Cada comando se empieza en una nueva línea, pero también después de un punto y coma (__;__):"
   ]
  },
  {
   "cell_type": "code",
   "execution_count": null,
   "id": "innocent-diversity",
   "metadata": {},
   "outputs": [],
   "source": [
    "%%bash -l\n",
    "# dos comandos en una línea separados por ;\n",
    "echo 'Es la primera línea'; echo 'Es la segunda línea'\n"
   ]
  },
  {
   "cell_type": "markdown",
   "id": "verbal-poker",
   "metadata": {},
   "source": [
    "---\n",
    "## Variables\n",
    "\n",
    "La declaración de las variables se puede hacer de la siguiente forma, ¡teniendo cuidado con los espacios!"
   ]
  },
  {
   "cell_type": "code",
   "execution_count": null,
   "id": "stone-microwave",
   "metadata": {},
   "outputs": [],
   "source": [
    "%%bash -l\n",
    "\n",
    "# Para declarar una variable se hace lo siguiente:\n",
    "VARIABLE=\"Linea de caracteres\"\n",
    "\n",
    "# Pero no así:\n",
    "#VARIABLE = \"Linea de caracteres\"\n",
    "# Si se descomenta la línea anterior se ve que da error\n",
    "# ya que considera que VARIABLE es un comando que no encuentra \"VARIABLE: orden no encontrada\"\n",
    "\n",
    "# Mostrando el contenido en la variable\n",
    "echo El contenido de Variable es: $VARIABLE\n",
    "echo \"$VARIABLE\"\n",
    "echo '$VARIABLE'\n",
    "# Note que ' (comilla simple) no expandirá las variables."
   ]
  },
  {
   "cell_type": "markdown",
   "id": "champion-material",
   "metadata": {},
   "source": [
    "Cuando la variable es usada -- o asignada, exportada, etcétera - se escribe su nombre sin el símbolo  __$__. \n",
    "\n",
    "Si se desea usar el valor de la variables, entonces __sí__ se usa $. Note que __'__ (comilla simple) no expandirá las  variables.\n",
    "\n",
    "----\n",
    "\n",
    "__Sustitución__ de caracteres en variables\n",
    "\n",
    "    echo ${VARIABLE/Mi/Una}\n",
    "\n",
    "Esto sustituirá la primera cadena \"Mi\" con \"Una\".\n",
    "\n",
    "---\n",
    "\n",
    "__Substring__ en una variable.\n",
    "\n",
    "    echo ${VARIABLE:0:7}\n",
    "\n",
    "Esto regresa los primeros 7 caracteres contenidos en VARIABLE.\n",
    "\n",
    "---"
   ]
  },
  {
   "cell_type": "code",
   "execution_count": null,
   "id": "polished-berry",
   "metadata": {},
   "outputs": [],
   "source": [
    "%%bash -l\n",
    "\n",
    "# Se asigna el siguiente texto a la variable\n",
    "VARIABLE=\"Mi cadena de caracteres\"\n",
    "#\n",
    "echo ${VARIABLE/Mi/Una}  \n",
    "echo 123456789012345678901234\n",
    "# esta linea de numeros muestra el número de caracter \n",
    "# correspondiente de la cadena.\n",
    "\n",
    "echo ${VARIABLE:0:7}"
   ]
  },
  {
   "cell_type": "markdown",
   "id": "coated-software",
   "metadata": {},
   "source": [
    "# Arreglos \n",
    "\n",
    "En Bash también se pueden utilizar arreglos, es decir, una colección de elementos en común.\n",
    "\n",
    "     arreglo=(Hola mundo 'yo soy' Jupyter)\n",
    "     arreglo[1]=,\n",
    "     echo \"arreglo[@]=${arreglo[@]}\"\n",
    "     echo \"El arreglo contiene ${#arreglo[@]} elementos\"\n",
    "\n",
    "Si ejecutas el script anterior, notarás que para usar arreglos en Bash debes utilizar la siguiente notación:\n",
    "\n",
    "Para crear un arreglo con ciertos elementos:\n",
    " \n",
    "     arreglo=(elemento1 elemento2 ...)\n",
    "\n",
    "Si el elemento es una cadena con espacios, entonces debe ir entre comillas simples:\n",
    "\n",
    "     arreglo=('Esta es una cadena con espacios' elemento ...)\n",
    "\n",
    "Para obtener el número de elementos en el arreglo:\n",
    "\n",
    "    ${#arreglo[@]}\n",
    "\n",
    "Si se quieren obtener cada uno de los elementos del arreglo:\n",
    "\n",
    "    ${arreglo[@]}"
   ]
  },
  {
   "cell_type": "code",
   "execution_count": 70,
   "id": "armed-origin",
   "metadata": {},
   "outputs": [
    {
     "name": "stdout",
     "output_type": "stream",
     "text": [
      "arreglo[@]=Hola , yo soy Jupyter\n",
      "El arreglo contiene 4 elementos\n"
     ]
    }
   ],
   "source": [
    "%%bash -l\n",
    "\n",
    "arreglo=(Hola mundo 'yo soy' Jupyter)\n",
    "arreglo[1]=,\n",
    "\n",
    "#\n",
    "\n",
    "echo \"arreglo[@]=${arreglo[@]}\"\n",
    "echo \"El arreglo contiene ${#arreglo[@]} elementos\""
   ]
  },
  {
   "cell_type": "markdown",
   "id": "white-mapping",
   "metadata": {},
   "source": [
    "### Variables del Sistema\n",
    "\n",
    "Se muestran algunas de las variables incluídas en el sistema`\n",
    "\n",
    "```\n",
    "echo \"El valor de regreso del último programa: $?\"\n",
    "echo \"PID del sistema: $$\"\n",
    "echo \"Número de argumentos: $#\"\n",
    "echo \"Argumentos del script: $@\"\n",
    "echo \"Argumentos del script separados en variables: $1 $2...`\n",
    "```"
   ]
  },
  {
   "cell_type": "code",
   "execution_count": 26,
   "id": "behavioral-blank",
   "metadata": {},
   "outputs": [
    {
     "name": "stdout",
     "output_type": "stream",
     "text": [
      "El valor de regreso del último programa: 0\n",
      "PID del sistema: 3416641\n",
      "Número de argumentos: 0\n",
      "Argumentos del script: \n",
      "Argumentos del script separados en variables:  ...\n"
     ]
    }
   ],
   "source": [
    "%%bash -l\n",
    "\n",
    "# Aquí hay algunas variables incluídas en el sistema:\n",
    "echo \"El valor de regreso del último programa: $?\"\n",
    "echo \"PID del sistema: $$\"\n",
    "echo \"Número de argumentos: $#\"\n",
    "echo \"Argumentos del script: $@\"\n",
    "echo \"Argumentos del script separados en variables: $1 $2...\""
   ]
  },
  {
   "cell_type": "markdown",
   "id": "heavy-singing",
   "metadata": {},
   "source": [
    "---\n",
    "\n",
    "Para leer un valor de la entrada estandard:\n",
    "```\n",
    "echo \"¿Cuál es tu nombre?\"\n",
    "read NOMBRE # Note que no necesitamos declarar una variable\n",
    "echo ¡Hola, $NOMBRE\n",
    "```\n",
    "\n",
    "# Condicionales\n",
    "En BASH se tiene la estructura __if__ tipica:\n",
    "\n",
    "Teclee 'man test' para más información sobre condicionales\n",
    "```\n",
    "if [ $NOMBRE -ne $USER ]\n",
    "then\n",
    "    echo \"Tu nombre es tu usuario.\"\n",
    "else\n",
    "    echo \"Tu nombre no es tu usuario.\"\n",
    "fi\n",
    "```\n",
    "\n",
    "También hay ejecuciones condicionadas.\n",
    "\n",
    "    echo \"Siempre ejecutado\" || echo \"Sólo ejecutado si el primer comando falla\"\n",
    "    echo \"Siempre ejecutado\" && echo \"Sólo ejecutado si el primer comando NO falla\"\n",
    "\n",
    "Para usar __&&__ y __||__ con condicionales, se necesitan  múltiples pares de corchetes:\n",
    "```\n",
    "if [ $NOMBRE == \"Pedro\" ] && [ $EDAD -eq 15 ]\n",
    "then\n",
    "    echo \"Esto correrá si $NOMBRE es Pedro Y $EDAD es 15.\"\n",
    "fi\n",
    "\n",
    "if [ $NOMBRE == \"Marlen\" ] || [ $NOMBRE == \"Xochitl\" ]\n",
    "then\n",
    "    echo \"Esto correrá si $NOMBRE es Marlen O Xochitl.\"\n",
    "fi\n",
    "```\n",
    "\n",
    "# Expresiones\n",
    "Las expresiones se denotan con el siguiente formato:\n",
    "\n",
    "    echo $(( 10 + 5 ))\n"
   ]
  },
  {
   "cell_type": "code",
   "execution_count": 29,
   "id": "included-pencil",
   "metadata": {},
   "outputs": [
    {
     "name": "stdout",
     "output_type": "stream",
     "text": [
      "15\n",
      "Hay 38 elementos aquí.\n"
     ]
    }
   ],
   "source": [
    "%%bash -l\n",
    "\n",
    "echo $(( 10 + 5 ))\n"
   ]
  },
  {
   "cell_type": "markdown",
   "id": "absolute-explosion",
   "metadata": {},
   "source": [
    "## Aritmetica\n",
    "\n",
    "En Bash las variables son tratadas como cadenas; así que siempre que se trata de una asignación simple, no sabe diferenciar entre un número, por ejemplo el 17 y la cadena de caracteres “17”.\n",
    "\n",
    "Observa que es lo que pasa con el siguiente ejemplo:"
   ]
  },
  {
   "cell_type": "code",
   "execution_count": 69,
   "id": "indie-affairs",
   "metadata": {},
   "outputs": [
    {
     "name": "stdout",
     "output_type": "stream",
     "text": [
      "17 - 17 = 17-17\n",
      "17 - 17 = 0\n"
     ]
    }
   ],
   "source": [
    "%%bash -l\n",
    "#Se inicializan las variables\n",
    "cadena=17\n",
    "numero=$((17))\n",
    "# Cuerpo\n",
    "resultado=$cadena-$numero\n",
    "resultado2=$(($cadena-$numero))\n",
    "# Salida\n",
    "echo \"$cadena - $numero = $resultado\"\n",
    "echo \"$cadena - $numero = $resultado2\""
   ]
  },
  {
   "cell_type": "markdown",
   "id": "popular-contract",
   "metadata": {},
   "source": [
    "Entonces se puede deducir que para realizar operaciones aritméticas con variables en Bash, es necesario utilizar la siguiente notación.\n",
    "\n",
    "    numero=$((numero1 [operador aritmético] numero2))\n",
    "    \n",
    "o tambien\n",
    "\n",
    "    numero=$(($numero1 [operador aritmético] $numero2))"
   ]
  },
  {
   "cell_type": "markdown",
   "id": "automotive-sheriff",
   "metadata": {},
   "source": [
    "---\n",
    "## BASH como interprete de Shell\n",
    "\n",
    "A diferencia de otros lenguajes de programación, bash es shell , así que\n",
    "funciona en un contexto de directorio actual. Así se pueden listar los archivos y\n",
    "los directorios de un directorio actual con el comando '__ls__'.\n",
    "\n",
    "Estos comandos tienen opciones que controlan su ejecución:\n",
    "\n",
    "     ls -l \n",
    "     # -l Lista todos los archivos y directorios en líneas distintas.\n",
    " \n",
    " Los resultados del comando anterior pueden ser pasados al siguiente como input. El comando 'grep' filtra el input con los comandos provistos.\n",
    " \n",
    " Así es como podemos listar archivos .txt en el directorio actual:\n",
    "\n",
    "     ls -l | grep \"\\.txt\""
   ]
  },
  {
   "cell_type": "code",
   "execution_count": 34,
   "id": "liable-arena",
   "metadata": {},
   "outputs": [
    {
     "name": "stdout",
     "output_type": "stream",
     "text": [
      "-rw-r--r-- 1 agustin agustin       37 ene 19 21:29 comp.txt\n",
      "-rw-r--r-- 1 agustin agustin       37 ene 19 21:52 compuestos.txt\n",
      "lrwxrwxrwx 1 agustin agustin       17 ene 17 10:30 estaciones.txt -> ../estaciones.txt\n",
      "-rw-r--r-- 1 agustin agustin      144 ene 19 21:51 est_unicas.txt\n",
      "-rw-r--r-- 1 agustin agustin      615 ene 19 21:29 lista_comp1.txt\n",
      "-rw-r--r-- 1 agustin agustin     3807 ene 20 09:55 lista_comp.txt\n",
      "-rw-r--r-- 1 agustin agustin     3807 ene 20 09:54 lista_Est.txt\n",
      "-rw-r--r-- 1 agustin agustin     1375 ene 19 21:51 parte_1.txt\n"
     ]
    }
   ],
   "source": [
    "%%bash -l\n",
    "\n",
    "ls -l | grep \"\\.txt\""
   ]
  },
  {
   "cell_type": "markdown",
   "id": "abandoned-platform",
   "metadata": {},
   "source": [
    "---\n",
    "# Redireccionamiento\n",
    "\n",
    "Con el shell de BASH también se puede redireccionar tanto el input como el error lanzado por algún comando ejecutado\n",
    "\n",
    " \n",
    "      python2 hello.py < \"input.in\"\n",
    "      python2 hello.py > \"output.out\"\n",
    "      python2 hello.py 2> \"error.err\"\n",
    "\n",
    "El error lanzado eliminará el contenido del archivo si es que existe,\n",
    "para después escribir el error. Para que se concatene (en lugar de eliminar)\n",
    " se emplea el comando \"__>>__\".\n",
    " \n",
    "Los comandos pueden ser sustituidos dentro de otros comandos usando __$( )__\n",
    "\n",
    "El siguiente ejemplo despliega el número de archivos y directorios en el directorio actual."
   ]
  },
  {
   "cell_type": "code",
   "execution_count": 33,
   "id": "peripheral-joint",
   "metadata": {},
   "outputs": [
    {
     "name": "stdout",
     "output_type": "stream",
     "text": [
      "Hay 38 elementos aquí.\n"
     ]
    }
   ],
   "source": [
    "%%bash -l\n",
    "\n",
    "echo \"Hay $(ls | wc -l) elementos aquí.\""
   ]
  },
  {
   "cell_type": "markdown",
   "id": "fallen-yemen",
   "metadata": {},
   "source": [
    "Lo mismo puede ser hecho usando comillas invertidas `` pero no pueden ser anidadas.\n",
    "\n",
    "El método preferido es __$( )__.\n",
    "\n",
    "      echo \"Hay `ls | wc -l` elementos aquí.\""
   ]
  },
  {
   "cell_type": "code",
   "execution_count": 35,
   "id": "greatest-comfort",
   "metadata": {},
   "outputs": [
    {
     "name": "stdout",
     "output_type": "stream",
     "text": [
      "Hay 38 elementos aquí.\n"
     ]
    }
   ],
   "source": [
    "%%bash -l\n",
    "\n",
    "echo \"Hay `ls | wc -l` elementos aquí.\"\n"
   ]
  },
  {
   "cell_type": "markdown",
   "id": "super-flooring",
   "metadata": {},
   "source": [
    "# Multiselección\n",
    "\n",
    "Bash usa una estructura de casos similar al switch de Java o C++´\n",
    "\n",
    "```\n",
    "case \"$VARIABLE\" in \n",
    "    # Lista de patrones que las condiciones deben cumplir: \n",
    "    0) echo \"Hay un cero.\";;\n",
    "    1) echo \"Hay un uno.\";;\n",
    "    *) echo \"No es null.\";;\n",
    "esac\n",
    "```"
   ]
  },
  {
   "cell_type": "code",
   "execution_count": 36,
   "id": "structured-degree",
   "metadata": {},
   "outputs": [
    {
     "name": "stdout",
     "output_type": "stream",
     "text": [
      "Hay un uno.\n"
     ]
    }
   ],
   "source": [
    "%%bash -l\n",
    "\n",
    "VARIABLE=1\n",
    "#\n",
    "case \"$VARIABLE\" in \n",
    "    # Lista de patrones que las condiciones deben cumplir: \n",
    "    0) echo \"Hay un cero.\";;\n",
    "    1) echo \"Hay un uno.\";;\n",
    "    *) echo \"No es null.\";;\n",
    "esac\n"
   ]
  },
  {
   "cell_type": "markdown",
   "id": "present-bosnia",
   "metadata": {},
   "source": [
    "# Ciclos\n",
    "\n",
    "Para los ciclos, se usa la estructura __for__. Los ciclos __for__ permiten ejecutar una o varias instrucciones de forma iterativa. Son utilizados cuando se conoce el valor inicial y el valor final de las iteraciones, además permite indicar el tamaño del salto entre una iteración y otra. \n",
    "\n",
    "### Formas\n",
    "\n",
    "Existen varias formas de utilizar el ciclo __for__. La que se muestra a continuación es la sintaxis heredada del lenguaje de programación C:\n",
    "\n",
    "```\n",
    "for (( inicializador; condición; contador ))\n",
    "do\n",
    "  #Instrucciones\n",
    "done\n",
    "```\n",
    "\n",
    "El inicializador es el valor inicial con que comenzará el ciclo. La condición es el valor final, el valor con que se detendrá el ciclo. El contador es el encargado de incrementar o decrementar, según sea el caso, el salto entre una iteración y otra.\n",
    "\n",
    "También puede ser utilizado con listas de la siguiente forma:\n",
    "\n",
    "```\n",
    "for i in lista\n",
    "do\n",
    "#Instrucciones\n",
    "done\n",
    "```\n",
    "\n",
    "Donde i toma el valor de la iteración actual en la lista dada.\n",
    "\n",
    "Si lo que se necesita es especificar un rango de valores, puede ser combinado con el comando __seq__ de la siguiente forma:\n",
    "\n",
    "```\n",
    "for i in $( seq rango)\n",
    "do\n",
    "#Instrucciones\n",
    "done\n",
    "```\n",
    "\n",
    "El comando seq puede ser utilizado de las siguientes formas:\n",
    "\n",
    "```\n",
    "seq [último valor]\n",
    "\n",
    "seq [primer valor] [último valor]\n",
    "\n",
    "seq [primer valor] [incremento] [último valor]\n",
    "```"
   ]
  },
  {
   "cell_type": "code",
   "execution_count": 68,
   "id": "organic-romania",
   "metadata": {},
   "outputs": [
    {
     "name": "stdout",
     "output_type": "stream",
     "text": [
      "1\n",
      "2\n",
      "3\n",
      "25\n",
      "26\n",
      "27\n",
      "28\n",
      "29\n",
      "elemento: des_estaciones.dat\n",
      "elemento: lista.dat\n",
      "numero: 1\n",
      "numero: 4\n",
      "numero: 7\n",
      "numero: 10\n",
      "numero: 13\n"
     ]
    }
   ],
   "source": [
    "%%bash -l\n",
    "# El contenido de $VARIABLE se imprime tres veces.\n",
    "\n",
    "for VARIABLE in {1..3}\n",
    "do\n",
    "    echo \"$VARIABLE\"\n",
    "done\n",
    "\n",
    "# El contenido de VARIABLE se asigna asigna de 1 a 3 por el for\n",
    "\n",
    "# Imprime la serie de números que inicia con el 25 y termina con el 29, incrementándolos de 1 en 1.\n",
    "for (( i=25; i<30; i++ ))\n",
    "do\n",
    " echo $i\n",
    "done\n",
    "\n",
    "# Imprime todos los elementos de la lista de directorios que devuelve el comando ls *.dat.\n",
    "\n",
    "for i in $( ls *dat )\n",
    "do\n",
    " echo elemento: $i\n",
    "done\n",
    "\n",
    "#Imprime la serie de números que se incrementan de 3 en 3, desde el 1 hasta el 15.\n",
    "\n",
    "for i in $( seq 1 3 15 )\n",
    "do\n",
    " echo numero: $i\n",
    "done\n"
   ]
  },
  {
   "cell_type": "markdown",
   "id": "black-reality",
   "metadata": {},
   "source": [
    "### Caso 2\n"
   ]
  },
  {
   "cell_type": "markdown",
   "id": "tamil-consumer",
   "metadata": {},
   "source": [
    "## Ciclos con WHILE\n",
    "\n",
    "El ciclo __while__ permite ejecutar un bloque de instrucciones mientras se cumpla la condición. Primero comprueba que en efecto se cumple la condición dada y entonces, ejecuta el segmento de código contenido entre las palabras __do__ y __done__,  así sucesivamente hasta que la condición no se cumpla."
   ]
  },
  {
   "cell_type": "code",
   "execution_count": 62,
   "id": "loose-marks",
   "metadata": {},
   "outputs": [],
   "source": [
    "%%bash -l\n",
    "\n",
    "# Inicializa variables\n",
    "x=1\n",
    "termina=4\n",
    "\n",
    "# Cuerpo\n",
    "while [ $termina -lt $x ]\n",
    "do\n",
    "    echo \"cuerpo del ciclo...\" $x\n",
    "    x=$(( 1 + $x ))\n",
    "done"
   ]
  },
  {
   "cell_type": "markdown",
   "id": "known-confirmation",
   "metadata": {},
   "source": [
    "# Ciclos UNTIL\n",
    "\n",
    "El ciclo __until__, a diferencia del ciclo __while__, permite ejecutar un bloque de instrucciones mientras no se cumpla una condición dada. A diferencia del __while__, verifica que la condición sea falsa, entonces ejecuta el segmento de código contenido entre las palabrasdo y done, hasta que la condición se cumpla.\n",
    "\n",
    "```\n",
    "until [ condición ]\n",
    "do\n",
    "  Bloque de instrucciones\n",
    "done\n",
    "```"
   ]
  },
  {
   "cell_type": "code",
   "execution_count": 63,
   "id": "nasty-contact",
   "metadata": {},
   "outputs": [
    {
     "name": "stdout",
     "output_type": "stream",
     "text": [
      "0\n",
      "1\n",
      "2\n",
      "3\n",
      "4\n",
      "5\n"
     ]
    }
   ],
   "source": [
    "%%bash -l\n",
    "# Inicializa variables\n",
    "contador=0\n",
    "termina=5\n",
    "# Cuerpo del ciclo\n",
    "until [ $termina -lt $contador ]\n",
    "do\n",
    "  echo $contador\n",
    "  let contador=$contador+1\n",
    "done"
   ]
  },
  {
   "cell_type": "markdown",
   "id": "prescribed-annual",
   "metadata": {},
   "source": [
    "Este ciclo imprime la serie de números del 0 al 5.\n",
    "\n",
    "Nótese que aunque en esencia este código es muy parecido al ejemplo del while, existe una diferencia en la condición dada ya que mientras con until se verifica si la condición es __falsa__, con while sucede lo contrario, es decir, que sea verdadera; por lo que en en el ejemplo de while se utiliza __-lt__ para comparar si es mayor o igual y en el ejemplo de until se utiliza __-lt__ para comparar si es menor que.\n",
    "\n",
    "Como te habrás dado cuenta, el uso del los ciclos while y until en Bash es muy fácil. Dependiendo del problema a resolver conviene utilizar uno u otro."
   ]
  },
  {
   "cell_type": "markdown",
   "id": "narrative-scroll",
   "metadata": {},
   "source": [
    "# Funciones\n",
    "\n",
    "Se pueden definir funciones (sub-rutinas) dentro de bash asi tenemos que podemos:\n",
    "\n"
   ]
  },
  {
   "cell_type": "code",
   "execution_count": 58,
   "id": "anonymous-tolerance",
   "metadata": {},
   "outputs": [
    {
     "name": "stdout",
     "output_type": "stream",
     "text": [
      "---\n",
      "Los argumentos trabajan igual que argumentos de script: \n",
      "Y:  ...\n",
      "Esto es una función\n",
      "---\n",
      "¡Otra forma de declarar funciones!\n"
     ]
    }
   ],
   "source": [
    "%%bash -l\n",
    "\n",
    "function miFuncion ()\n",
    "{\n",
    "    echo \"Los argumentos trabajan igual que argumentos de script: $@\"\n",
    "    echo \"Y: $1 $2...\"\n",
    "    echo \"Esto es una función\"\n",
    "    return 0\n",
    "}\n",
    "\n",
    "# O simplemente:\n",
    "miOtraFuncion ()\n",
    "{\n",
    "    echo \"¡Otra forma de declarar funciones!\"\n",
    "    return 0\n",
    "}\n",
    "\n",
    "# Para llamar a tu función\n",
    "echo ---\n",
    "miFuncion\n",
    "echo ---\n",
    "miOtraFuncion"
   ]
  },
  {
   "cell_type": "code",
   "execution_count": null,
   "id": "consolidated-clear",
   "metadata": {},
   "outputs": [],
   "source": []
  }
 ],
 "metadata": {
  "kernelspec": {
   "display_name": "Python 3",
   "language": "python",
   "name": "python3"
  },
  "language_info": {
   "codemirror_mode": {
    "name": "ipython",
    "version": 3
   },
   "file_extension": ".py",
   "mimetype": "text/x-python",
   "name": "python",
   "nbconvert_exporter": "python",
   "pygments_lexer": "ipython3",
   "version": "3.8.8"
  }
 },
 "nbformat": 4,
 "nbformat_minor": 5
}
