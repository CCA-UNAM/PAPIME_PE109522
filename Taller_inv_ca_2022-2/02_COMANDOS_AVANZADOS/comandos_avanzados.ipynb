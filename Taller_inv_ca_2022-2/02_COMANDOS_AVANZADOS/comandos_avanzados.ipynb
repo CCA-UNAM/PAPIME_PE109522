{
 "cells": [
  {
   "cell_type": "markdown",
   "id": "wicked-likelihood",
   "metadata": {
    "tags": []
   },
   "source": [
    "# Herramientas GNU/Linux\n",
    "\n",
    "Este documento muestra el uso de los comandos **GREP, SORT, CUT, TR, UNIQ, JOINT, PASTE, TAIL, HEAD, ECHO** y el **PIPE** \"__|__\".\n",
    "\n",
    "## -GREP-\n",
    "\n",
    "Se emplea para la búsqueda de texto/patron en un archivo.\n",
    "\n",
    "Sintáxis básica: **grep** *cadena_texto   archivo*\n",
    "\n",
    "### Ejemplo \n",
    "\n",
    "Para extraer de un archivo los lineas con el patrón de estación \"BJU\" se puede emplear el comando siguiente:\n",
    "\n",
    "```\n",
    "grep BJU lista.dat\n",
    "```\n",
    "\n",
    "Para extraer ahora la vuariable PMCO de ese mismo archivo se puede emplear:\n"
   ]
  },
  {
   "cell_type": "code",
   "execution_count": 5,
   "id": "phantom-impact",
   "metadata": {},
   "outputs": [
    {
     "name": "stdout",
     "output_type": "stream",
     "text": [
      "01/01/2021 01:00,PMCO,MGH\n",
      "01/01/2021 01:00,PMCO,AJM\n",
      "01/01/2021 01:00,PMCO,MPA\n",
      "01/01/2021 01:00,PMCO,BJU\n",
      "01/01/2021 01:00,PMCO,INN\n",
      "01/01/2021 01:00,PMCO,GAM\n",
      "01/01/2021 02:00,PMCO,CAM\n",
      "01/01/2021 02:00,PMCO,BJU\n",
      "01/01/2021 02:00,PMCO,MGH\n",
      "01/01/2021 03:00,PMCO,BJU\n",
      "01/01/2021 04:00,PMCO,BJU\n"
     ]
    }
   ],
   "source": [
    "%%bash -l\n",
    "\n",
    "grep PMCO lista.dat"
   ]
  },
  {
   "cell_type": "markdown",
   "id": "outdoor-helping",
   "metadata": {},
   "source": [
    "### Ejemplo\n",
    "\n",
    "Cuando se requieran extraer las líneas que contengan, o el patrón de estación __CUA__ o el patron con la variable __PMCO__, se necesita definir cada patrón mediante el patrón (-e). Además, si se requiere que se ignore si son mayúsculas o minúsculas se emplea el parámetro (-i).\n",
    "\n",
    "Definición:\n",
    "\n",
    "-e patrón\n",
    "\n",
    "-i ignorar mayúsculas y minúsculas\n",
    "\n",
    "```\n",
    "grep  -i -e cua -e pmco lista.dat\n",
    "```"
   ]
  },
  {
   "cell_type": "code",
   "execution_count": 3,
   "id": "improved-brother",
   "metadata": {},
   "outputs": [
    {
     "name": "stdout",
     "output_type": "stream",
     "text": [
      "01/01/2021 01:00,PMCO,MGH\n",
      "01/01/2021 01:00,PMCO,AJM\n",
      "01/01/2021 01:00,PMCO,MPA\n",
      "01/01/2021 01:00,PMCO,BJU\n",
      "01/01/2021 01:00,PMCO,INN\n",
      "01/01/2021 01:00,PMCO,GAM\n",
      "01/01/2021 02:00,PMCO,CAM\n",
      "01/01/2021 02:00,CO,CUA\n",
      "01/01/2021 02:00,NO,CUA\n",
      "01/01/2021 02:00,NO2,CUA\n",
      "01/01/2021 02:00,PMCO,BJU\n",
      "01/01/2021 02:00,PMCO,MGH\n",
      "01/01/2021 03:00,PMCO,BJU\n",
      "01/01/2021 04:00,PMCO,BJU\n"
     ]
    }
   ],
   "source": [
    "%%bash -l\n",
    "\n",
    "grep -i -e cua -e pmco lista.dat"
   ]
  },
  {
   "cell_type": "markdown",
   "id": "thick-directive",
   "metadata": {},
   "source": [
    "### Ejemplo\n",
    "\n",
    "Si se necesita que sean exclusivas, es decir que las líneas extraidas tengan ambos patrones se puede emplear el comando pipe \"__|__\" para realizar la segunda búsqueda (o filtrado).\n",
    "\n",
    "```\n",
    "grep -i -e BJU lista.dat | grep PMCO\n",
    "```\n",
    "\n",
    "o bien gregando -i en la segunda búsqueda si escribiste pmco en minúsculas. Ambas salidas son equivalentes."
   ]
  },
  {
   "cell_type": "code",
   "execution_count": 6,
   "id": "working-carpet",
   "metadata": {},
   "outputs": [
    {
     "name": "stdout",
     "output_type": "stream",
     "text": [
      "01/01/2021 01:00,PMCO,BJU\n",
      "01/01/2021 02:00,PMCO,BJU\n",
      "01/01/2021 03:00,PMCO,BJU\n",
      "01/01/2021 04:00,PMCO,BJU\n"
     ]
    }
   ],
   "source": [
    "%%bash -l\n",
    "grep -i -e bju lista.dat | grep -i pmco"
   ]
  },
  {
   "cell_type": "markdown",
   "id": "considered-compact",
   "metadata": {
    "tags": []
   },
   "source": [
    "***\n",
    "## -SORT-\n",
    "\n",
    "Ordena las líneas de un archivo de texto.\n",
    "\n",
    "Sintáxis básica: **sort** *nombre_archivo*\n",
    "\n",
    "### Ejemplo\n",
    "```\n",
    "sort lista.dat\n",
    "```\n",
    "\n",
    "### Ejemplo\n",
    "\n",
    "Si se deseara ordenar el archivo *lista.dat* mediante la columna 3 sabiendo que el separador de cada columna son las comas se puede emplear lo siguiente:\n",
    "\n",
    "```\n",
    "sort -k3 -t\",\" lista.dat > lista_Est.txt\n",
    "```\n",
    "\n",
    "Definición:\n",
    "\n",
    "-k especifica la columna para realizar el ordenamiento.\n",
    "\n",
    "-t especifica el separador para identificar las columnas.\n",
    "\n",
    "Además, en esta instrucción la salidaa se direccionana a un archivo con nombre *lista_Est.txt* mediante el redireccionamiento con \"__>__\". Si esta parte se omitiera la salida solo se presentaría en la pantalla.\n",
    "\n",
    "```\n",
    "sort -k3 -t\",\" lista.dat\n",
    "```"
   ]
  },
  {
   "cell_type": "code",
   "execution_count": 32,
   "id": "simplified-silver",
   "metadata": {},
   "outputs": [],
   "source": [
    "%%bash -l\n",
    "\n",
    "sort -k3 -t\",\" lista.dat > lista_Est.txt"
   ]
  },
  {
   "cell_type": "markdown",
   "id": "completed-piano",
   "metadata": {
    "tags": []
   },
   "source": [
    "El archivo quedará ordenado y puedes visualizarlo abriendo una **Terminal** desde el *Launcher* mediante los comandos **cat** o **more** (vistos en la primera clase: https://tlaloc.atmosfera.unam.mx/cca-ucar/curso_unix/intro/ ).\n",
    "\n",
    "O bien puedes verificar el resultado viendo el principio y la parte final del archivo mediante **head** y **tail**.\n",
    "\n",
    "***\n",
    "## -Head-\n",
    "\n",
    "Imprime las primeras n líneas superiores de un archivo (por defecto n=10). Si se quiere manipular el número de líneas a imprimir se usa con la opción -n *numero_lineas*.\n",
    "\n",
    "Sintáxis básica: **head** nombre_archivo\n",
    "\n",
    "### Ejemplos\n",
    "```\n",
    "head lista.dat\n",
    "```\n",
    "\n",
    "```\n",
    "head -n 7 lista.dat\n",
    "```\n",
    "***\n",
    "## -Tail-\n",
    "\n",
    "Sintáxis básica: **tail** nombre_archivo\n",
    "\n",
    "Imprime las últimas n líneas de un archivo (por defecto n=10). Si se quiere manipular el número de líneas a imprimir se usa con la opción -n *numero_lineas*.\n",
    "\n",
    "### Ejemplos\n",
    "```\n",
    "tail lista.dat\n",
    "```\n",
    "\n",
    "```\n",
    "tail -n 14 lista.dat\n",
    "```\n",
    "\n",
    "Ahora verifiquemos el inicio y el fin de ambos archivos: lista.dat (archivo origianl sin ordenar) y lista_Est.txt (archivo ordenado)."
   ]
  },
  {
   "cell_type": "code",
   "execution_count": 27,
   "id": "incorrect-compound",
   "metadata": {},
   "outputs": [
    {
     "name": "stdout",
     "output_type": "stream",
     "text": [
      "01/01/2021 01:00,NOX,ccA\n",
      "01/01/2021 01:00,O3,CCA\n",
      "01/01/2021 01:00,PM2.5,CCA\n",
      "...\n",
      "01/01/2021 04:00,PM2.5,BJU\n",
      "01/01/2021 04:00,PMCO,BJU\n",
      "01/01/2021 04:00,SO2,BJU\n",
      "Líneas en el archivo\n",
      "152 lista.dat\n",
      "          \n",
      "01/01/2021 02:00,CO,ACO\n",
      "01/01/2021 02:00,CO,ACO\n",
      "01/01/2021 02:00,NO2,ACO\n",
      "...\n",
      "01/01/2021 01:00,O3,SAC\n",
      "01/01/2021 01:00,PM2.5,SAC\n",
      "01/01/2021 01:00,SO2,SAC\n",
      "Líneas en el archivo\n",
      "152 lista_Est.txt\n"
     ]
    }
   ],
   "source": [
    "%%bash -l\n",
    "# Archivo original\n",
    "head -n 3 lista.dat \n",
    "echo \"...\"\n",
    "tail -n 3 lista.dat\n",
    "echo \"Líneas en el archivo\"\n",
    "wc -l lista.dat\n",
    "echo \"          \"\n",
    "\n",
    "# Archivo ordenado\n",
    "head -n 3 lista_Est.txt\n",
    "echo \"...\"\n",
    "tail -n 3 lista_Est.txt\n",
    "echo \"Líneas en el archivo\"\n",
    "wc -l lista_Est.txt"
   ]
  },
  {
   "cell_type": "markdown",
   "id": "respiratory-aviation",
   "metadata": {},
   "source": [
    "***\n",
    "### Algunas precisiones antes de continuar\n",
    "\n",
    "## -Echo-\n",
    "\n",
    "Para mostrar líneas de texto/cadenas. Beben de estar entre comillas.\n",
    "\n",
    "Sintáxis básica: **echo** *\"lineas_texto\"*\n",
    "\n",
    "### Ejemplos\n",
    "```\n",
    "echo \"Líneas en el archivo\"\n",
    "```\n",
    "\n",
    "```\n",
    "echo \"...\"\n",
    "```\n",
    "***\n",
    "## -WC (word count)-\n",
    "\n",
    "Empleado para contar líneas, palabras, caratéres y bytes en los archivos especificados.\n",
    "\n",
    "Sintáxis básica: **wc** *nombre_archivo*\n",
    "\n",
    "### Ejemplo\n",
    "```\n",
    "wc archivo.dat\n",
    "```\n",
    "\n",
    "Para este caso el resultado será: \n",
    "\n",
    "152  304 3807 lista.dat\n",
    "\n",
    "Lo cual son 4 columnas, siendo la primer columna el número de líneas en el archivo, la segunda el número de palabras, la tercera el número de caracteres y la cuarta el nombre del archivo que se dió como argumento.\n",
    "\n",
    "Para sólo imprimir el número de líneas que tiene el archivo se emplea junto con la opción -l\n",
    "\n",
    "### Ejemplo\n",
    "```\n",
    "wc -l lista_Est.txt\n",
    "```\n",
    "\n",
    "**Ejercicio:** Ejecuta la instrucción para ordenar el archivo **lista.dat** mediante la columna 2 y guarda el resultado en el archivo **lista_comp.txt**\n",
    "\n",
    "\n",
    "\n",
    "\n"
   ]
  },
  {
   "cell_type": "markdown",
   "id": "artificial-element",
   "metadata": {},
   "source": [
    "***\n",
    "## -TR-\n",
    "\n",
    "Se emplea para cambiar o remover caracteres en en un archivo.\n",
    "\n",
    "### Ejemplo\n",
    "\n",
    "Para substituir en un archivo todas las aparciones del caracter \",\" por tabuladores \"\\t\" se puede realizar:\n",
    "```\n",
    "cat lista_Est.txt | tr \",\" \"\\t\"  > lista_Est_tab.txt\n",
    "```\n",
    "\n",
    "o bien puede escribirse de la siguiente manera:\n",
    "```\n",
    "tr \",\" \"\\t\" < lista_Est.txt > lista_Est_tab.txt\n",
    "```"
   ]
  },
  {
   "cell_type": "code",
   "execution_count": 33,
   "id": "comfortable-plain",
   "metadata": {},
   "outputs": [
    {
     "name": "stdout",
     "output_type": "stream",
     "text": [
      "01/01/2021 02:00\tCO\tACO\n",
      "01/01/2021 02:00\tCO\tACO\n",
      "01/01/2021 02:00\tNO2\tACO\n",
      "01/01/2021 02:00\tNO2\tACO\n"
     ]
    }
   ],
   "source": [
    "%%bash -l\n",
    "\n",
    "tr \",\" \"\\t\" <lista_Est.txt> lista_Est_tab1.txt\n",
    "\n",
    "# para verificar el resultado\n",
    "head -n 4 lista_Est_tab1.txt"
   ]
  },
  {
   "cell_type": "markdown",
   "id": "circular-nudist",
   "metadata": {},
   "source": [
    "para el caso en que se quiera substituir por espacios se puede emplear:\n",
    "```\n",
    "tr \",\" \" \" <lista_comp.txt> lista_comp_esp.txt\n",
    "```\n",
    "Nota que estamos trabajando sobre el archivo *lista_comp.txt* que se quedó como ejercicio anteriormente."
   ]
  },
  {
   "cell_type": "code",
   "execution_count": 34,
   "id": "round-strategy",
   "metadata": {},
   "outputs": [
    {
     "name": "stdout",
     "output_type": "stream",
     "text": [
      "01/01/2021 02:00 CO ACO\n",
      "01/01/2021 02:00 CO ACO\n",
      "01/01/2021 01:00 CO AJM\n",
      "01/01/2021 02:00 CO ATI\n"
     ]
    }
   ],
   "source": [
    "%%bash -l\n",
    "tr \",\" \" \" <lista_comp.txt> lista_comp_esp.txt\n",
    "\n",
    "# para revisar el cambio de coma a espacio\n",
    "head -n 4 lista_comp_esp.txt"
   ]
  },
  {
   "cell_type": "markdown",
   "id": "vulnerable-instruction",
   "metadata": {},
   "source": [
    "***\n",
    "## -CUT-\n",
    "\n",
    "Elimina fragmentos en cada línea de un archivo.\n",
    "\n",
    "Sintáxis simple: ***cut** *opciones nombre_archivo*\n",
    "\n",
    "### Ejemplo\n",
    "\n",
    "Seleccionar la columna 2 del archivo _lista_comp.txt_ que se encuentra separado por comas:\n",
    "\n",
    "```\n",
    "cut -d \",\" -f 2 lista_comp.txt > lista_comp1.txt \n",
    "\n",
    "```\n",
    "la opción -d especifique el delimitador que será considerado en lugar del tabulador \"\\t\" que se encuentra como predeterminado. Mientras que la opción -f especifica el campo/columna a usar.\n"
   ]
  },
  {
   "cell_type": "code",
   "execution_count": 37,
   "id": "laughing-hormone",
   "metadata": {},
   "outputs": [
    {
     "name": "stdout",
     "output_type": "stream",
     "text": [
      "CO\n",
      "CO\n",
      "CO\n",
      "...\n",
      "SO2\n",
      "SO2\n",
      "SO2\n",
      "152 lista_comp1.txt\n"
     ]
    }
   ],
   "source": [
    "%%bash -l \n",
    "cut -d \",\" -f 2 lista_comp.txt > lista_comp1.txt\n",
    "\n",
    "head -n 3 lista_comp1.txt\n",
    "echo ...\n",
    "tail -n 3 lista_comp1.txt\n",
    "wc -l lista_comp1.txt"
   ]
  },
  {
   "cell_type": "code",
   "execution_count": 39,
   "id": "duplicate-things",
   "metadata": {},
   "outputs": [
    {
     "name": "stdout",
     "output_type": "stream",
     "text": [
      "CO,ACO\n",
      "CO,ACO\n",
      "CO,AJM\n",
      "...\n",
      "SO2,MON\n",
      "SO2,MPA\n",
      "SO2,SAC\n",
      "152 lista_comp2.txt\n"
     ]
    }
   ],
   "source": [
    "%%bash -l \n",
    "# para especificar más de un campo\n",
    "cut -d \",\" -f 2,3 lista_comp.txt > lista_comp2.txt\n",
    "\n",
    "head -n 3 lista_comp2.txt\n",
    "echo ...\n",
    "tail -n 3 lista_comp2.txt\n",
    "wc -l lista_comp2.txt"
   ]
  },
  {
   "cell_type": "markdown",
   "id": "small-compound",
   "metadata": {},
   "source": [
    "***\n",
    "## -UNIQ-\n",
    "\n",
    "Muestra u omite líneas duplicadas en un archivo.\n",
    "\n",
    "### Ejemplo\n",
    "\n",
    "Muestra los valores únicos en el archivo lista_comp1.txt \n",
    "```\n",
    "uniq lista_comp1.txt\n",
    "```\n",
    "**NOTA**: Recuerda que este archivo sólo tiene una columna."
   ]
  },
  {
   "cell_type": "code",
   "execution_count": 41,
   "id": "brilliant-richards",
   "metadata": {},
   "outputs": [
    {
     "name": "stdout",
     "output_type": "stream",
     "text": [
      "CO\n",
      "NO2\n",
      "NO\n",
      "NOX\n",
      "O3\n",
      "PM10\n",
      "PM2.5\n",
      "PMCO\n",
      "SO2\n",
      "9 compuestos.txt\n"
     ]
    }
   ],
   "source": [
    "%%bash -l\n",
    "\n",
    "uniq lista_comp1.txt > compuestos.txt\n",
    "\n",
    "head compuestos.txt\n",
    "# Cuenta el número de renglones\n",
    "wc -l compuestos.txt"
   ]
  },
  {
   "cell_type": "markdown",
   "id": "pregnant-highland",
   "metadata": {},
   "source": [
    "### Ejemplo\n",
    "\n",
    "Para extraer cuántas estaciones hay (columna 3) del archivo original *lista.dat* se puede realizar lo siguiente:\n",
    "\n",
    "```\n",
    "cut -d \",\" -f 3 lista.dat |sort |uniq > estaciones_unicas.txt\n",
    "\n",
    "```"
   ]
  },
  {
   "cell_type": "code",
   "execution_count": 43,
   "id": "finished-upper",
   "metadata": {},
   "outputs": [
    {
     "name": "stdout",
     "output_type": "stream",
     "text": [
      "ACO\n",
      "AJM\n",
      "AJU\n",
      "...\n",
      "MON\n",
      "MPA\n",
      "SAC\n",
      "numero de líneas en el archivo\n",
      "17 estaciones_unicas.txt\n"
     ]
    }
   ],
   "source": [
    "%%bash -l\n",
    "\n",
    "cut -d \",\" -f 3 lista.dat |sort |uniq > estaciones_unicas.txt\n",
    "\n",
    "# Para comprobar:\n",
    "head -n 3 estaciones_unicas.txt \n",
    "echo ...\n",
    "tail -n 3 estaciones_unicas.txt\n",
    "echo \"numero de líneas en el archivo\"\n",
    "wc -l  estaciones_unicas.txt"
   ]
  },
  {
   "cell_type": "markdown",
   "id": "prerequisite-daily",
   "metadata": {},
   "source": [
    "***\n",
    "# JOIN\n",
    "\n",
    "Une las líneas de dos archivos en función de un campo (columna) común presente en ambos archivos.\n",
    "\n",
    "Sintáxis simple: **join** *opciones nombre_archivo1 nombre_archivo2*\n",
    "\n",
    "### Ejemplo\n",
    "\n",
    "Supongamos que se requiere agregar al archivo de las estaciones (**lista_Et.txt**) una descripción de cada estación (**des_estaciones.txt**). Sabiendo que tienen un campo (o columna) en común se hará la unión a través de este:\n",
    "```\n",
    "lista_Est.txt\n",
    "01/01/2021 02:00,CO,ACO\n",
    "01/01/2021 02:00,CO,ACO\n",
    "01/01/2021 02:00,NO2,ACO\n",
    "\n",
    "des_estaciones.dat\n",
    "ACO,Acolman,19.635501,-98.912003\n",
    "AJM,Ajusco Medio,19.272161,-99.207744\n",
    "AJU,Ajusco,19.154286,-99.162611\n",
    "ARA,Aragón,19.470218,-99.074549\n",
    "ATI,Atizapan,19.576963,-99.254133\n",
    "```\n",
    " \n",
    "```\n",
    "join -t \",\" -13 -21 lista_Est.txt des_estaciones.dat > list_Est_lo_lat.txt\n",
    "```\n",
    "donde la opción **-13** indica archivo 1 campo 3 y la **-21** indica archivo 2 campo 1. "
   ]
  },
  {
   "cell_type": "code",
   "execution_count": 45,
   "id": "thick-hello",
   "metadata": {},
   "outputs": [
    {
     "name": "stdout",
     "output_type": "stream",
     "text": [
      "ACO,01/01/2021 02:00,CO,Acolman,19.635501,-98.912003\n",
      "ACO,01/01/2021 02:00,CO,Acolman,19.635501,-98.912003\n",
      "ACO,01/01/2021 02:00,NO2,Acolman,19.635501,-98.912003\n",
      "...\n",
      "SAC,01/01/2021 01:00,O3,Santiago Acahualtepec,19.34561,-99.009381\n",
      "SAC,01/01/2021 01:00,PM2.5,Santiago Acahualtepec,19.34561,-99.009381\n",
      "SAC,01/01/2021 01:00,SO2,Santiago Acahualtepec,19.34561,-99.009381\n"
     ]
    }
   ],
   "source": [
    "%%bash -l\n",
    "\n",
    "join -t \",\" -13 -21 lista_Est.txt des_estaciones.dat > list_Est_lon_lat.txt\n",
    "\n",
    "# Para revisar la lista\n",
    "head -3 list_Est_lon_lat.txt\n",
    "echo ...\n",
    "tail -3 list_Est_lon_lat.txt"
   ]
  },
  {
   "cell_type": "markdown",
   "id": "painted-demand",
   "metadata": {},
   "source": [
    "***\n",
    "# PASTE\n",
    "\n",
    "Une archivos horizontalmente generando líneas que consisten en líneas de cada arhivo de entrada y son separadas por tabuladores.\n",
    "\n",
    "Sintáxis simple: **paste** *opciones nombre_archivo1 nombre_archivo 2*\n",
    "\n",
    "### Ejemplo\n",
    "\n",
    "Supongamos que se tiene el archivo de identificadores __id_est.txt__ y se desea acoplar con el archivo de localización __loc.txt__\n",
    "\n",
    "```\n",
    "id_est.txt     loc.txt\n",
    " \n",
    "DIC             19.298819 -99.185774\n",
    "EDL             19.313357 -99.310635\n",
    "INN             19.291968 -99.38052\n",
    "LPR             19.534727 -99.11772\n",
    "MON             19.460415 -98.902853\n",
    "```\n",
    "para combinarlos o pegarlos se puede emplear:\n",
    "\n",
    "```\n",
    "paste id_est.txt loc.txt > combinado.txt\n",
    "```\n"
   ]
  },
  {
   "cell_type": "code",
   "execution_count": 47,
   "id": "fewer-check",
   "metadata": {},
   "outputs": [
    {
     "name": "stdout",
     "output_type": "stream",
     "text": [
      "DIC\t19.298819\t-99.185774\n",
      "EDL\t19.313357\t-99.310635\n",
      "INN\t19.291968\t-99.38052\n",
      "LPR\t19.534727\t-99.11772\n",
      "MON\t19.460415\t-98.902853\n"
     ]
    }
   ],
   "source": [
    "%%bash -l\n",
    "# Combina con PASTE\n",
    "paste id_est.txt loc.txt > combinado.txt\n",
    "\n",
    "# Verifica\n",
    "head combinado.txt"
   ]
  },
  {
   "cell_type": "markdown",
   "id": "european-portfolio",
   "metadata": {
    "tags": []
   },
   "source": [
    "***\n",
    "## -GREP en archivos-\n",
    "\n",
    "Es posible realizar una búsqueda de un patrón/texto en varios archivos.\n",
    "\n",
    "Ahora con los archivos creados a partir de los ejemplos busquemos la palabra *ACO* en todos los archivos que inician con list. "
   ]
  },
  {
   "cell_type": "code",
   "execution_count": 49,
   "id": "foreign-formation",
   "metadata": {},
   "outputs": [
    {
     "name": "stdout",
     "output_type": "stream",
     "text": [
      "lista_comp2.txt\n",
      "lista_comp_esp.txt\n",
      "lista_comp.txt\n",
      "lista.dat\n",
      "lista_Est_tab1.txt\n",
      "lista_Est_tab.txt\n",
      "lista_Est.txt\n",
      "list_Est_lon_lat.txt\n"
     ]
    }
   ],
   "source": [
    "%%bash -l\n",
    "# Busqueda de patrones en varios archivos\n",
    "\n",
    "grep -l ACO list*"
   ]
  },
  {
   "cell_type": "markdown",
   "id": "drawn-architect",
   "metadata": {
    "tags": []
   },
   "source": [
    "***\n",
    "Finalmente, si deseas borrar los archivos creados puedes emplear el comando **rm**"
   ]
  },
  {
   "cell_type": "code",
   "execution_count": null,
   "id": "biblical-sector",
   "metadata": {},
   "outputs": [],
   "source": []
  }
 ],
 "metadata": {
  "kernelspec": {
   "display_name": "Python 3 (ipykernel)",
   "language": "python",
   "name": "python3"
  },
  "language_info": {
   "codemirror_mode": {
    "name": "ipython",
    "version": 3
   },
   "file_extension": ".py",
   "mimetype": "text/x-python",
   "name": "python",
   "nbconvert_exporter": "python",
   "pygments_lexer": "ipython3",
   "version": "3.8.13"
  }
 },
 "nbformat": 4,
 "nbformat_minor": 5
}
