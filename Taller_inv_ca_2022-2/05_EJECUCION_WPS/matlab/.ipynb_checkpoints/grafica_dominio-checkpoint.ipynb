{
 "cells": [
  {
   "cell_type": "markdown",
   "id": "level-symposium",
   "metadata": {},
   "source": [
    "<h1>Programa para leer archivos netcdf y graficar variables meteorológicas</h1>\n"
   ]
  },
  {
   "cell_type": "code",
   "execution_count": 1,
   "id": "opposite-pulse",
   "metadata": {},
   "outputs": [],
   "source": [
    "\n",
    "clear;\n",
    "\n",
    "load 'division_mexico.dat'\n",
    "\n"
   ]
  },
  {
   "cell_type": "code",
   "execution_count": 3,
   "id": "corrected-bradford",
   "metadata": {},
   "outputs": [
    {
     "name": "stdout",
     "output_type": "stream",
     "text": [
      "\n",
      "ans =\n",
      "\n",
      "    '/LUSTRE/tmp/i.5010/05_EJECUCION_WPS/matlab'\n",
      "\n"
     ]
    },
    {
     "name": "stderr",
     "output_type": "stream",
     "text": [
      "\u001b[0;31mError using internal.matlab.imagesci.nc/openToRead\n",
      "Could not open ../2022/wrf/WPS-4.3.1/geo_em.d01.nc for reading.\n",
      "\n",
      "Error in internal.matlab.imagesci.nc (line 124)\n",
      "                    this.openToRead();\n",
      "\n",
      "Error in ncread (line 69)\n",
      "ncObj   = internal.matlab.imagesci.nc(ncFile);\n",
      "\n",
      "\u001b[0m"
     ]
    }
   ],
   "source": [
    "pwd\n",
    "file_nc = '../../2022/wrf/WPS-4.3.1/geo_em.d01.nc';\n",
    "XLATdata = ncread(file_nc,'CLAT');\n",
    "lat1 = XLATdata(:,:,1);\n",
    "XLONGdata = ncread(file_nc,'CLONG');\n",
    "long1 = XLONGdata(:,:,1);\n",
    "\n",
    "\n",
    "\n"
   ]
  },
  {
   "cell_type": "code",
   "execution_count": null,
   "id": "interesting-portland",
   "metadata": {},
   "outputs": [],
   "source": [
    "figure('Position', [1 1 762 577])\n",
    "hold on\n",
    "plot(long1(1,:),lat1(1,:),'Color','r','LineWidth',3)\n",
    "plot(long1(:,1),lat1(:,1),'Color','r','LineWidth',3)\n",
    "plot(long1(end,:),lat1(end,:),'Color','r','LineWidth',3)\n",
    "plot(long1(:,end),lat1(:,end),'Color','r','LineWidth',3)\n",
    "grid on\n",
    "\n",
    "\n",
    "plot(division_mexico(:,1),division_mexico(:,2),'k','LineWidth',1.5)\n",
    "xlim([-104 -94]);\n",
    "ylim([15 24]);\n",
    "box on\n",
    "set(gca,'FontSize',18,'FontWeight', 'bold');\n",
    "ax = gca;\n",
    "ax.LineWidth = 2.0\n",
    "ylabel('Latitude', 'FontSize',18, 'FontWeight', 'bold');\n",
    "xlabel('Longitude', 'FontSize',18, 'FontWeight', 'bold');\n",
    "text(-102,16.4,'Domain 1','Color','r','FontSize',20,'FontWeight','bold')\n",
    "\n",
    "\n",
    "set(gcf,'PaperPositionMode','auto')"
   ]
  }
 ],
 "metadata": {
  "kernelspec": {
   "display_name": "Matlab",
   "language": "matlab",
   "name": "matlab"
  },
  "language_info": {
   "codemirror_mode": "octave",
   "file_extension": ".m",
   "help_links": [
    {
     "text": "MetaKernel Magics",
     "url": "https://metakernel.readthedocs.io/en/latest/source/README.html"
    }
   ],
   "mimetype": "text/x-octave",
   "name": "matlab",
   "version": "0.17.1"
  }
 },
 "nbformat": 4,
 "nbformat_minor": 5
}
